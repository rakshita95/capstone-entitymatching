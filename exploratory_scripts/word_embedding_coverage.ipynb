{
 "cells": [
  {
   "cell_type": "code",
   "execution_count": 101,
   "metadata": {},
   "outputs": [],
   "source": [
    "import gensim\n",
    "import pandas as pd\n",
    "import nltk\n",
    "import string"
   ]
  },
  {
   "cell_type": "markdown",
   "metadata": {},
   "source": [
    "# Calculate out-of-vocab percentage on full datasets"
   ]
  },
  {
   "cell_type": "code",
   "execution_count": 102,
   "metadata": {},
   "outputs": [],
   "source": [
    "def get_coverage_amz_ggl():\n",
    "    for col in ['title', 'description', 'manufacturer']:\n",
    "        df1 = pd.read_csv(\"data/amazon_google/full/Amazon.csv\",engine='python')\n",
    "        df2 = pd.read_csv(\"data/amazon_google/full/GoogleProducts.csv\",engine='python')\n",
    "        all_words = set()\n",
    "        if col=='title':\n",
    "            col2='name'\n",
    "        else:\n",
    "            col2=col\n",
    "        df1[col].astype('str').str.lower().str.replace('[{}]'.format(string.punctuation), '').str.replace(r'[0-9]+', '').str.split().apply(all_words.update)\n",
    "        df2[col2].astype('str').str.lower().str.replace('[{}]'.format(string.punctuation), '').str.replace(r'[0-9]+', '').str.split().apply(all_words.update)\n",
    "\n",
    "        absent = [word for word in all_words if word not in model]\n",
    "        print(\"{a} are missing out of {b} in {colm}\".format(a=len(set(absent)),b=len(all_words),colm=col))"
   ]
  },
  {
   "cell_type": "code",
   "execution_count": 103,
   "metadata": {},
   "outputs": [],
   "source": [
    "def get_coverage_acm_dblp():\n",
    "    for col in ['authors', 'venue', 'title']:\n",
    "        df1 = pd.read_csv(\"data/acm_dblp/full/ACM.csv\", engine='python')\n",
    "        df2 = pd.read_csv(\"data/acm_dblp/full/DBLP2.csv\", engine='python')\n",
    "        all_words = set()\n",
    "        df1[col].astype('str').str.lower().str.replace('[{}]'.format(string.punctuation), '').str.replace(r'[0-9]+', '').str.split().apply(all_words.update)\n",
    "        df2[col].astype('str').str.lower().str.replace('[{}]'.format(string.punctuation), '').str.replace(r'[0-9]+', '').str.split().apply(all_words.update)\n",
    "\n",
    "        absent = [word for word in all_words if word not in model]\n",
    "        print(\"{a} are missing out of {b} in {colm}\".format(a=len(set(absent)),b=len(all_words),colm=col))"
   ]
  },
  {
   "cell_type": "code",
   "execution_count": 104,
   "metadata": {},
   "outputs": [],
   "source": [
    "def get_coverage_neoway():\n",
    "    df1 = pd.read_csv(\"data/neoway/full/input.csv\")\n",
    "    df1.head()\n",
    "    df2 = pd.read_csv(\"data/neoway/full/reference.csv\")\n",
    "    df2.head()\n",
    "    for col in ['name','addressStreet','addressCity','addressState']:\n",
    "        all_words = set()\n",
    "        df1[col].astype('str').str.lower().str.replace('[{}]'.format(string.punctuation), '').str.replace(r'[0-9]+', '').str.split().apply(all_words.update)\n",
    "        df2[col].astype('str').str.lower().str.replace('[{}]'.format(string.punctuation), '').str.replace(r'[0-9]+', '').str.split().apply(all_words.update)\n",
    "\n",
    "        absent = [word for word in all_words if word not in model]\n",
    "        print(\"{a} are missing out of {b} in {colm}\".format(a=len(set(absent)),b=len(all_words),colm=col))"
   ]
  },
  {
   "cell_type": "markdown",
   "metadata": {},
   "source": [
    "## Word2Vec"
   ]
  },
  {
   "cell_type": "code",
   "execution_count": 105,
   "metadata": {},
   "outputs": [],
   "source": [
    "path_to_pretrained_model = 'data/embeddings/GoogleNews-vectors-negative300.bin'\n",
    "model = gensim.models.KeyedVectors.load_word2vec_format(path_to_pretrained_model, binary=True)"
   ]
  },
  {
   "cell_type": "markdown",
   "metadata": {},
   "source": [
    "### Calculate coverage on Amazon - Google"
   ]
  },
  {
   "cell_type": "code",
   "execution_count": 106,
   "metadata": {},
   "outputs": [
    {
     "name": "stdout",
     "output_type": "stream",
     "text": [
      "1442 are missing out of 4477 in title\n",
      "4225 are missing out of 16702 in description\n",
      "127 are missing out of 393 in manufacturer\n"
     ]
    }
   ],
   "source": [
    "get_coverage_amz_ggl()"
   ]
  },
  {
   "cell_type": "markdown",
   "metadata": {},
   "source": [
    "### Calculate coverage on ACM-DBLP"
   ]
  },
  {
   "cell_type": "code",
   "execution_count": 107,
   "metadata": {},
   "outputs": [
    {
     "name": "stdout",
     "output_type": "stream",
     "text": [
      "3491 are missing out of 4845 in authors\n",
      "4 are missing out of 23 in venue\n",
      "942 are missing out of 3730 in title\n"
     ]
    }
   ],
   "source": [
    "get_coverage_acm_dblp()"
   ]
  },
  {
   "cell_type": "markdown",
   "metadata": {},
   "source": [
    "### Calculate coverage on Neoway"
   ]
  },
  {
   "cell_type": "code",
   "execution_count": 108,
   "metadata": {},
   "outputs": [
    {
     "name": "stdout",
     "output_type": "stream",
     "text": [
      "164282 are missing out of 203526 in name\n",
      "4940 are missing out of 8926 in addressStreet\n",
      "38 are missing out of 126 in addressCity\n",
      "0 are missing out of 29 in addressState\n"
     ]
    }
   ],
   "source": [
    "get_coverage_neoway()"
   ]
  },
  {
   "cell_type": "markdown",
   "metadata": {},
   "source": [
    "## Glolve"
   ]
  },
  {
   "cell_type": "code",
   "execution_count": 109,
   "metadata": {},
   "outputs": [],
   "source": [
    "path_to_pretrained_model = 'data/embeddings/glove.42B.300d_word2vec.txt'\n",
    "model = gensim.models.KeyedVectors.load_word2vec_format(path_to_pretrained_model)"
   ]
  },
  {
   "cell_type": "markdown",
   "metadata": {},
   "source": [
    "### Calculate coverage on Amazon - Google"
   ]
  },
  {
   "cell_type": "code",
   "execution_count": 110,
   "metadata": {},
   "outputs": [
    {
     "name": "stdout",
     "output_type": "stream",
     "text": [
      "618 are missing out of 4477 in title\n",
      "2511 are missing out of 16702 in description\n",
      "17 are missing out of 393 in manufacturer\n"
     ]
    }
   ],
   "source": [
    "get_coverage_amz_ggl()"
   ]
  },
  {
   "cell_type": "markdown",
   "metadata": {},
   "source": [
    "### Calculate coverage on ACM-DBLP"
   ]
  },
  {
   "cell_type": "code",
   "execution_count": 111,
   "metadata": {},
   "outputs": [
    {
     "name": "stdout",
     "output_type": "stream",
     "text": [
      "1067 are missing out of 4845 in authors\n",
      "0 are missing out of 23 in venue\n",
      "572 are missing out of 3730 in title\n"
     ]
    }
   ],
   "source": [
    "get_coverage_acm_dblp()"
   ]
  },
  {
   "cell_type": "markdown",
   "metadata": {},
   "source": [
    "### Calculate coverage on Neoway"
   ]
  },
  {
   "cell_type": "code",
   "execution_count": 112,
   "metadata": {},
   "outputs": [
    {
     "name": "stdout",
     "output_type": "stream",
     "text": [
      "78043 are missing out of 203526 in name\n",
      "797 are missing out of 8926 in addressStreet\n",
      "0 are missing out of 126 in addressCity\n",
      "0 are missing out of 29 in addressState\n"
     ]
    }
   ],
   "source": [
    "get_coverage_neoway()"
   ]
  },
  {
   "cell_type": "markdown",
   "metadata": {},
   "source": [
    "## fastText"
   ]
  },
  {
   "cell_type": "code",
   "execution_count": 113,
   "metadata": {},
   "outputs": [],
   "source": [
    "path_to_pretrained_model = 'data/embeddings/cc.en.300.bin'\n",
    "model = gensim.models.FastText.load_fasttext_format(path_to_pretrained_model)"
   ]
  },
  {
   "cell_type": "markdown",
   "metadata": {},
   "source": [
    "### Calculate coverage on Amazon - Google"
   ]
  },
  {
   "cell_type": "code",
   "execution_count": 115,
   "metadata": {},
   "outputs": [
    {
     "name": "stderr",
     "output_type": "stream",
     "text": [
      "/Users/shihhuayu/anaconda/envs/py35/lib/python3.5/site-packages/ipykernel_launcher.py:13: DeprecationWarning: Call to deprecated `__contains__` (Method will be removed in 4.0.0, use self.wv.__contains__() instead).\n",
      "  del sys.path[0]\n"
     ]
    },
    {
     "name": "stdout",
     "output_type": "stream",
     "text": [
      "24 are missing out of 4477 in title\n",
      "29 are missing out of 16702 in description\n",
      "0 are missing out of 393 in manufacturer\n"
     ]
    }
   ],
   "source": [
    "get_coverage_amz_ggl()"
   ]
  },
  {
   "cell_type": "markdown",
   "metadata": {},
   "source": [
    "### Calculate coverage on ACM-DBLP"
   ]
  },
  {
   "cell_type": "code",
   "execution_count": 116,
   "metadata": {},
   "outputs": [
    {
     "name": "stdout",
     "output_type": "stream",
     "text": [
      "8 are missing out of 4845 in authors\n",
      "0 are missing out of 23 in venue\n",
      "7 are missing out of 3730 in title\n"
     ]
    },
    {
     "name": "stderr",
     "output_type": "stream",
     "text": [
      "/Users/shihhuayu/anaconda/envs/py35/lib/python3.5/site-packages/ipykernel_launcher.py:9: DeprecationWarning: Call to deprecated `__contains__` (Method will be removed in 4.0.0, use self.wv.__contains__() instead).\n",
      "  if __name__ == '__main__':\n"
     ]
    }
   ],
   "source": [
    "get_coverage_acm_dblp()"
   ]
  },
  {
   "cell_type": "markdown",
   "metadata": {},
   "source": [
    "### Calculate coverage on Neoway"
   ]
  },
  {
   "cell_type": "code",
   "execution_count": 117,
   "metadata": {},
   "outputs": [
    {
     "name": "stderr",
     "output_type": "stream",
     "text": [
      "/Users/shihhuayu/anaconda/envs/py35/lib/python3.5/site-packages/ipykernel_launcher.py:11: DeprecationWarning: Call to deprecated `__contains__` (Method will be removed in 4.0.0, use self.wv.__contains__() instead).\n",
      "  # This is added back by InteractiveShellApp.init_path()\n"
     ]
    },
    {
     "name": "stdout",
     "output_type": "stream",
     "text": [
      "1334 are missing out of 203526 in name\n",
      "9 are missing out of 8926 in addressStreet\n",
      "0 are missing out of 126 in addressCity\n",
      "0 are missing out of 29 in addressState\n"
     ]
    }
   ],
   "source": [
    "get_coverage_neoway()"
   ]
  },
  {
   "cell_type": "code",
   "execution_count": null,
   "metadata": {},
   "outputs": [],
   "source": []
  },
  {
   "cell_type": "code",
   "execution_count": null,
   "metadata": {},
   "outputs": [],
   "source": []
  }
 ],
 "metadata": {
  "kernelspec": {
   "display_name": "Python 3",
   "language": "python",
   "name": "python3"
  },
  "language_info": {
   "codemirror_mode": {
    "name": "ipython",
    "version": 3
   },
   "file_extension": ".py",
   "mimetype": "text/x-python",
   "name": "python",
   "nbconvert_exporter": "python",
   "pygments_lexer": "ipython3",
   "version": "3.5.4"
  }
 },
 "nbformat": 4,
 "nbformat_minor": 2
}
