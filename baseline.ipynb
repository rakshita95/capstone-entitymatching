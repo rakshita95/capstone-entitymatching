{
 "cells": [
  {
   "cell_type": "code",
   "execution_count": 1,
   "metadata": {
    "collapsed": false
   },
   "outputs": [],
   "source": [
    "import pandas as pd\n",
    "\n",
    "input_df = pd.read_csv('companies_data_neoway/input.csv')\n",
    "ref_df = pd.read_csv('companies_data_neoway/reference.csv')\n",
    "match_df = pd.read_csv('companies_data_neoway/match.csv')"
   ]
  },
  {
   "cell_type": "code",
   "execution_count": 2,
   "metadata": {
    "collapsed": false
   },
   "outputs": [
    {
     "name": "stdout",
     "output_type": "stream",
     "text": [
      "780 1000\n"
     ]
    }
   ],
   "source": [
    "import py_entitymatching as em\n",
    "em.set_key(input_df, 'serial')\n",
    "em.set_key(ref_df, 'serial')\n",
    "\n",
    "# Downsample the datasets \n",
    "sample_input, sample_ref = em.down_sample(input_df, ref_df, size=1000, y_param=1, show_progress=False)\n",
    "print(len(sample_input), len(sample_ref))"
   ]
  },
  {
   "cell_type": "code",
   "execution_count": 2,
   "metadata": {
    "collapsed": false
   },
   "outputs": [],
   "source": [
    "# sample_input.head()"
   ]
  },
  {
   "cell_type": "code",
   "execution_count": 4,
   "metadata": {
    "collapsed": false
   },
   "outputs": [
    {
     "name": "stderr",
     "output_type": "stream",
     "text": [
      "//anaconda/lib/python3.6/site-packages/pandas/core/generic.py:4388: FutureWarning: Attribute 'is_copy' is deprecated and will be removed in a future version.\n",
      "  object.__getattribute__(self, name)\n",
      "//anaconda/lib/python3.6/site-packages/pandas/core/generic.py:4389: FutureWarning: Attribute 'is_copy' is deprecated and will be removed in a future version.\n",
      "  return object.__setattr__(self, name, value)\n"
     ]
    }
   ],
   "source": [
    "## blocking: blocking on addressCity since addressState format is different for input and reference datasets\n",
    "ob = em.OverlapBlocker()\n",
    "\n",
    "# Specify the tokenization to be 'word' level and set overlap_size to be 3.\n",
    "C = ob.block_tables(sample_input, sample_ref, 'addressCity', 'addressCity', word_level=True, overlap_size=2, \n",
    "                    l_output_attrs=['name', 'addressStreet', 'addressZip','addressState'], \n",
    "                    r_output_attrs=['name', 'addressStreet', 'addressZip','addressState'],\n",
    "                    show_progress=False)"
   ]
  },
  {
   "cell_type": "code",
   "execution_count": 5,
   "metadata": {
    "collapsed": false
   },
   "outputs": [],
   "source": [
    "## labelling\n",
    "C['gold']=0\n",
    "with_labels = (C['ltable_serial'].map(str)+'_'+C['rtable_serial'].map(float).map(str)) \\\n",
    "                            .isin(match_df['serial_input'].map(str)+'_'+match_df['serial_reference'].map(str))\n",
    "C.loc[with_labels,'gold'] = 1"
   ]
  },
  {
   "cell_type": "code",
   "execution_count": 3,
   "metadata": {
    "collapsed": false
   },
   "outputs": [],
   "source": [
    "# C.head()"
   ]
  },
  {
   "cell_type": "code",
   "execution_count": 7,
   "metadata": {
    "collapsed": false
   },
   "outputs": [],
   "source": [
    "# Generate features automatically \n",
    "feature_table = em.get_features_for_matching(sample_input, sample_ref, validate_inferred_attr_types=False)\n",
    "feature_table = feature_table[(feature_table.left_attribute!='addressCity') & (feature_table.left_attribute!='serial')]\n",
    "feature_table\n",
    "\n",
    "# name\taddressStreet\taddressCity\taddressZip\taddressState\n",
    "# Select the attrs. to be included in the feature vector table\n",
    "attrs_from_table = ['ltable_name', 'ltable_addressStreet', 'ltable_addressZip', 'ltable_addressState',\n",
    "                    'rtable_name', 'rtable_addressStreet', 'rtable_addressZip', 'rtable_addressState']\n",
    "# Convert the labeled data to feature vectors using the feature table\n",
    "H = em.extract_feature_vecs(C, \n",
    "                            feature_table=feature_table, \n",
    "                            attrs_before = attrs_from_table,\n",
    "                            attrs_after='gold',\n",
    "                            show_progress=False)"
   ]
  },
  {
   "cell_type": "code",
   "execution_count": 1,
   "metadata": {
    "collapsed": false
   },
   "outputs": [],
   "source": [
    "# H.head()"
   ]
  },
  {
   "cell_type": "code",
   "execution_count": 9,
   "metadata": {
    "collapsed": false
   },
   "outputs": [
    {
     "name": "stdout",
     "output_type": "stream",
     "text": [
      "True\n",
      "True\n"
     ]
    }
   ],
   "source": [
    "## Impute features\n",
    "\n",
    "print(any(pd.notnull(H)))\n",
    "\n",
    "attrs_to_be_excluded = []\n",
    "attrs_to_be_excluded.extend(['_id', 'ltable_serial', 'rtable_serial', 'gold'])\n",
    "attrs_to_be_excluded.extend(attrs_from_table)\n",
    "\n",
    "# Impute feature vectors with the mean of the column values.\n",
    "H = em.impute_table(H, \n",
    "                exclude_attrs=attrs_to_be_excluded,\n",
    "                strategy='mean')\n",
    "\n",
    "# print(any(pd.notnull(H)))"
   ]
  },
  {
   "cell_type": "code",
   "execution_count": 10,
   "metadata": {
    "collapsed": false
   },
   "outputs": [],
   "source": [
    "## RF Matcher\n",
    "rf = em.RFMatcher()\n",
    "rf.fit(table=H, exclude_attrs=attrs_to_be_excluded, target_attr='gold')"
   ]
  },
  {
   "cell_type": "code",
   "execution_count": 11,
   "metadata": {
    "collapsed": false
   },
   "outputs": [
    {
     "data": {
      "text/html": [
       "<div>\n",
       "<style scoped>\n",
       "    .dataframe tbody tr th:only-of-type {\n",
       "        vertical-align: middle;\n",
       "    }\n",
       "\n",
       "    .dataframe tbody tr th {\n",
       "        vertical-align: top;\n",
       "    }\n",
       "\n",
       "    .dataframe thead th {\n",
       "        text-align: right;\n",
       "    }\n",
       "</style>\n",
       "<table border=\"1\" class=\"dataframe\">\n",
       "  <thead>\n",
       "    <tr style=\"text-align: right;\">\n",
       "      <th></th>\n",
       "      <th>Matcher</th>\n",
       "      <th>Average precision</th>\n",
       "      <th>Average recall</th>\n",
       "      <th>Average f1</th>\n",
       "    </tr>\n",
       "  </thead>\n",
       "  <tbody>\n",
       "    <tr>\n",
       "      <th>0</th>\n",
       "      <td>RandomForest_48707632420393398351</td>\n",
       "      <td>0.81</td>\n",
       "      <td>0.75</td>\n",
       "      <td>0.742063</td>\n",
       "    </tr>\n",
       "  </tbody>\n",
       "</table>\n",
       "</div>"
      ],
      "text/plain": [
       "                             Matcher  Average precision  Average recall  \\\n",
       "0  RandomForest_48707632420393398351               0.81            0.75   \n",
       "\n",
       "   Average f1  \n",
       "0    0.742063  "
      ]
     },
     "execution_count": 11,
     "metadata": {},
     "output_type": "execute_result"
    }
   ],
   "source": [
    "# Select the best ML matcher using 5 fold CV\n",
    "result = em.select_matcher([rf], table=H, \n",
    "        exclude_attrs=attrs_to_be_excluded,\n",
    "        k=5,\n",
    "        target_attr='gold', metric_to_select_matcher='f1', random_state=42)\n",
    "print(result['cv_stats'])"
   ]
  },
  {
   "cell_type": "markdown",
   "metadata": {
    "collapsed": true
   },
   "source": []
  },
  {
   "cell_type": "code",
   "execution_count": null,
   "metadata": {
    "collapsed": true
   },
   "outputs": [],
   "source": []
  }
 ],
 "metadata": {
  "kernelspec": {
   "display_name": "Python 3",
   "language": "python",
   "name": "python3"
  },
  "language_info": {
   "codemirror_mode": {
    "name": "ipython",
    "version": 3
   },
   "file_extension": ".py",
   "mimetype": "text/x-python",
   "name": "python",
   "nbconvert_exporter": "python",
   "pygments_lexer": "ipython3",
   "version": "3.6.5"
  }
 },
 "nbformat": 4,
 "nbformat_minor": 2
}
