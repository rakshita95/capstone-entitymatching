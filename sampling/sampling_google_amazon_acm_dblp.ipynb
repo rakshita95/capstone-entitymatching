{
 "cells": [
  {
   "cell_type": "markdown",
   "metadata": {},
   "source": [
    "## Downsample Google-Amazon datasets and ACM-DBLP datasets\n",
    "** For progress report 2 **"
   ]
  },
  {
   "cell_type": "code",
   "execution_count": 2,
   "metadata": {
    "collapsed": true
   },
   "outputs": [],
   "source": [
    "import os.path as path\n",
    "import pandas as pd\n",
    "import py_entitymatching as em\n",
    "import random\n",
    "\n",
    "data_path =  path.abspath(path.join('__file__' ,\"../../data\"))"
   ]
  },
  {
   "cell_type": "code",
   "execution_count": 6,
   "metadata": {
    "collapsed": true
   },
   "outputs": [],
   "source": [
    "amazon = pd.read_csv(data_path + '/Amazon-GoogleProducts/Amazon.csv',engine='python')\n",
    "commerce_match = pd.read_csv(data_path + '/Amazon-GoogleProducts/Amzon_GoogleProducts_perfectMapping.csv')\n",
    "google = pd.read_csv(data_path + '/Amazon-GoogleProducts/GoogleProducts.csv',engine='python')"
   ]
  },
  {
   "cell_type": "code",
   "execution_count": 7,
   "metadata": {},
   "outputs": [
    {
     "name": "stdout",
     "output_type": "stream",
     "text": [
      "115 200\n"
     ]
    }
   ],
   "source": [
    "em.set_key(amazon, 'id')\n",
    "em.set_key(google, 'id')\n",
    "\n",
    "# Downsample the datasets \n",
    "sample_amz, sample_ggl = em.down_sample(amazon, google, size=200, y_param=1, show_progress=False, seed=100)\n",
    "print(len(sample_amz), len(sample_ggl))"
   ]
  },
  {
   "cell_type": "code",
   "execution_count": 12,
   "metadata": {
    "collapsed": true
   },
   "outputs": [],
   "source": [
    "# Find match\n",
    "a = commerce_match.merge(pd.DataFrame(sample_amz['id']),how = 'inner', left_on='idAmazon',right_on='id').drop(columns=['id'])\n",
    "amz_ggl_samp_match = a.merge(pd.DataFrame(sample_ggl['id']),how='inner',left_on='idGoogleBase', right_on='id').drop(columns= ['id'])"
   ]
  },
  {
   "cell_type": "code",
   "execution_count": 14,
   "metadata": {},
   "outputs": [
    {
     "data": {
      "text/plain": [
       "(30, 2)"
      ]
     },
     "execution_count": 14,
     "metadata": {},
     "output_type": "execute_result"
    }
   ],
   "source": [
    "amz_ggl_samp_match.shape"
   ]
  },
  {
   "cell_type": "code",
   "execution_count": 56,
   "metadata": {
    "collapsed": true
   },
   "outputs": [],
   "source": [
    "sample_amz.to_csv('amazon_sample_test.csv', index=False)\n",
    "sample_ggl.to_csv('google_sample.csv', index=False)\n",
    "amz_ggl_samp_match.to_csv('amazon_google_sample_match.csv', index=False)"
   ]
  },
  {
   "cell_type": "code",
   "execution_count": 7,
   "metadata": {
    "collapsed": true
   },
   "outputs": [],
   "source": [
    "acm = pd.read_csv(data_path + '/DBLP-ACM/ACM.csv',engine='python')\n",
    "dblp = pd.read_csv(data_path + '/DBLP-ACM/DBLP2.csv',engine='python')\n",
    "bib_match = pd.read_csv(data_path + '/DBLP-ACM/DBLP-ACM_perfectMapping.csv')"
   ]
  },
  {
   "cell_type": "code",
   "execution_count": 8,
   "metadata": {},
   "outputs": [
    {
     "name": "stdout",
     "output_type": "stream",
     "text": [
      "189 200\n"
     ]
    }
   ],
   "source": [
    "em.set_key(acm, 'id')\n",
    "em.set_key(dblp, 'id')\n",
    "\n",
    "# Downsample the datasets \n",
    "sample_acm, sample_dblp = em.down_sample(acm, dblp, size=200, y_param=1, show_progress=False, seed=100)\n",
    "print(len(sample_acm), len(sample_dblp))"
   ]
  },
  {
   "cell_type": "code",
   "execution_count": 9,
   "metadata": {},
   "outputs": [
    {
     "data": {
      "text/plain": [
       "188"
      ]
     },
     "execution_count": 9,
     "metadata": {},
     "output_type": "execute_result"
    }
   ],
   "source": [
    "len(set(sample_acm['id']).intersection(set(bib_match['idACM'])))"
   ]
  },
  {
   "cell_type": "code",
   "execution_count": 10,
   "metadata": {
    "collapsed": true
   },
   "outputs": [],
   "source": [
    "# Find match\n",
    "a = bib_match.merge(pd.DataFrame(sample_acm['id']),how = 'inner', left_on='idACM',right_on='id').drop(columns=['id'])\n",
    "acm_dblp_samp_match = a.merge(pd.DataFrame(sample_dblp['id']),how='inner',left_on='idDBLP', right_on='id').drop(columns= ['id'])"
   ]
  },
  {
   "cell_type": "code",
   "execution_count": 11,
   "metadata": {},
   "outputs": [
    {
     "data": {
      "text/plain": [
       "(163, 2)"
      ]
     },
     "execution_count": 11,
     "metadata": {},
     "output_type": "execute_result"
    }
   ],
   "source": [
    "acm_dblp_samp_match.shape"
   ]
  },
  {
   "cell_type": "code",
   "execution_count": 271,
   "metadata": {
    "collapsed": true
   },
   "outputs": [],
   "source": [
    "sample_acm.to_csv('acm_sample.csv', index=False)\n",
    "sample_dblp.to_csv('dblp_sample.csv', index=False)\n",
    "acm_dblp_samp_match.to_csv('acm_dblp_sample_match.csv', index=False)"
   ]
  },
  {
   "cell_type": "code",
   "execution_count": null,
   "metadata": {
    "collapsed": true
   },
   "outputs": [],
   "source": []
  }
 ],
 "metadata": {
  "kernelspec": {
   "display_name": "c36",
   "language": "python",
   "name": "conda36"
  },
  "language_info": {
   "codemirror_mode": {
    "name": "ipython",
    "version": 3
   },
   "file_extension": ".py",
   "mimetype": "text/x-python",
   "name": "python",
   "nbconvert_exporter": "python",
   "pygments_lexer": "ipython3",
   "version": "3.6.5"
  }
 },
 "nbformat": 4,
 "nbformat_minor": 2
}
